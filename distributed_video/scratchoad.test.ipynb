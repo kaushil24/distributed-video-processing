{
 "cells": [
  {
   "attachments": {},
   "cell_type": "markdown",
   "metadata": {},
   "source": [
    "## Pure zmq implementation"
   ]
  },
  {
   "cell_type": "code",
   "execution_count": 4,
   "metadata": {},
   "outputs": [],
   "source": [
    "import zmq\n",
    "\n",
    "REQ_SOCKET_URL='127.0.0.1:9008' # socket url on which LB will send request and the VP will listen to this request\n",
    "RESP_SOCKET_URL='127.0.0.1:9069' # socket on which the LB will listen to the responses from the VP\n",
    "\n",
    "req_socket_url = REQ_SOCKET_URL\n",
    "resp_socket_url = RESP_SOCKET_URL\n",
    "\n",
    "context = zmq.Context()\n",
    "socket = context.socket(zmq.PUSH)\n",
    "socket.bind(f\"tcp://{req_socket_url}\")\n",
    "\n",
    "socket.send_json({\"task\": \"me6\"})\n",
    "\n",
    "socket.close()"
   ]
  },
  {
   "attachments": {},
   "cell_type": "markdown",
   "metadata": {},
   "source": [
    "## Using module"
   ]
  },
  {
   "cell_type": "code",
   "execution_count": 5,
   "metadata": {},
   "outputs": [],
   "source": [
    "from distributed_video.load_balancer.node_manager import NodesDirectory\n",
    "# from load_balancer.node_manager import NodesDirectory\n",
    "\n",
    "nd = NodesDirectory()\n",
    "\n",
    "# nd.close_all_sockets()\n",
    "\n",
    "nd.bind_all_sockets()"
   ]
  },
  {
   "cell_type": "code",
   "execution_count": 6,
   "metadata": {},
   "outputs": [],
   "source": [
    "nd.close_all_sockets()"
   ]
  },
  {
   "cell_type": "code",
   "execution_count": 7,
   "metadata": {},
   "outputs": [],
   "source": [
    "nd.bind_all_sockets()"
   ]
  },
  {
   "cell_type": "code",
   "execution_count": 8,
   "metadata": {},
   "outputs": [],
   "source": [
    "nd.send_json({\"task\": \"task123\"})"
   ]
  },
  {
   "cell_type": "code",
   "execution_count": null,
   "metadata": {},
   "outputs": [],
   "source": []
  }
 ],
 "metadata": {
  "kernelspec": {
   "display_name": ".venv",
   "language": "python",
   "name": "python3"
  },
  "language_info": {
   "codemirror_mode": {
    "name": "ipython",
    "version": 3
   },
   "file_extension": ".py",
   "mimetype": "text/x-python",
   "name": "python",
   "nbconvert_exporter": "python",
   "pygments_lexer": "ipython3",
   "version": "3.10.6"
  },
  "orig_nbformat": 4,
  "vscode": {
   "interpreter": {
    "hash": "d22fad7cbc9a1626588e83c77497e323dd1e56142dc4e0219681a13c3f13f3b7"
   }
  }
 },
 "nbformat": 4,
 "nbformat_minor": 2
}
