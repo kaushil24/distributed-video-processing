{
 "cells": [
  {
   "attachments": {},
   "cell_type": "markdown",
   "metadata": {},
   "source": [
    "## Using module"
   ]
  },
  {
   "cell_type": "code",
   "execution_count": 10,
   "metadata": {},
   "outputs": [
    {
     "name": "stdout",
     "output_type": "stream",
     "text": [
      "Port already binded\n",
      "Port already binded\n"
     ]
    }
   ],
   "source": [
    "from distributed_video.load_balancer.node_manager import NodesDirectory\n",
    "# from load_balancer.node_manager import NodesDirectory\n",
    "\n",
    "nd = NodesDirectory()\n",
    "\n",
    "nd.close_all_sockets()\n",
    "\n",
    "nd.bind_all_sockets()"
   ]
  },
  {
   "cell_type": "code",
   "execution_count": 19,
   "metadata": {},
   "outputs": [],
   "source": [
    "nd.close_all_sockets()"
   ]
  },
  {
   "cell_type": "code",
   "execution_count": 9,
   "metadata": {},
   "outputs": [
    {
     "name": "stdout",
     "output_type": "stream",
     "text": [
      "Port already binded\n"
     ]
    }
   ],
   "source": [
    "nd.bind_all_sockets()"
   ]
  },
  {
   "cell_type": "code",
   "execution_count": 25,
   "metadata": {},
   "outputs": [
    {
     "ename": "ZMQError",
     "evalue": "Socket operation on non-socket",
     "output_type": "error",
     "traceback": [
      "\u001b[0;31m---------------------------------------------------------------------------\u001b[0m",
      "\u001b[0;31mZMQError\u001b[0m                                  Traceback (most recent call last)",
      "Cell \u001b[0;32mIn[25], line 1\u001b[0m\n\u001b[0;32m----> 1\u001b[0m nd\u001b[39m.\u001b[39;49msend_json({\u001b[39m\"\u001b[39;49m\u001b[39mtask\u001b[39;49m\u001b[39m\"\u001b[39;49m: \u001b[39m\"\u001b[39;49m\u001b[39mtask12\u001b[39;49m\u001b[39m\"\u001b[39;49m})\n",
      "File \u001b[0;32m~/Desktop/disributed/project/distributed-video-processing/distributed_video/load_balancer/node_manager.py:51\u001b[0m, in \u001b[0;36mNodesDirectory.send_json\u001b[0;34m(self, *args, **kwargs)\u001b[0m\n\u001b[1;32m     46\u001b[0m \u001b[39mdef\u001b[39;00m \u001b[39msend_json\u001b[39m(\u001b[39mself\u001b[39m, \u001b[39m*\u001b[39margs, \u001b[39m*\u001b[39m\u001b[39m*\u001b[39mkwargs):\n\u001b[1;32m     47\u001b[0m \u001b[39m    \u001b[39m\u001b[39m\"\"\"\u001b[39;00m\n\u001b[1;32m     48\u001b[0m \u001b[39m    Wrapper over socket.send_json(). It picks the socket pointed\u001b[39;00m\n\u001b[1;32m     49\u001b[0m \u001b[39m    by the next\u001b[39;00m\n\u001b[1;32m     50\u001b[0m \u001b[39m    \"\"\"\u001b[39;00m\n\u001b[0;32m---> 51\u001b[0m     resp \u001b[39m=\u001b[39m \u001b[39mself\u001b[39;49m\u001b[39m.\u001b[39;49mnodes[\u001b[39mself\u001b[39;49m\u001b[39m.\u001b[39;49mnext_node_index]\u001b[39m.\u001b[39;49msocket\u001b[39m.\u001b[39;49msend_json(\u001b[39m*\u001b[39;49margs, \u001b[39m*\u001b[39;49m\u001b[39m*\u001b[39;49mkwargs)\n\u001b[1;32m     52\u001b[0m     \u001b[39mself\u001b[39m\u001b[39m.\u001b[39mincrement_next_node_index()\n\u001b[1;32m     53\u001b[0m     \u001b[39mreturn\u001b[39;00m resp\n",
      "File \u001b[0;32m~/Desktop/disributed/project/distributed-video-processing/.venv/lib/python3.10/site-packages/zmq/sugar/socket.py:987\u001b[0m, in \u001b[0;36mSocket.send_json\u001b[0;34m(self, obj, flags, **kwargs)\u001b[0m\n\u001b[1;32m    985\u001b[0m         send_kwargs[key] \u001b[39m=\u001b[39m kwargs\u001b[39m.\u001b[39mpop(key)\n\u001b[1;32m    986\u001b[0m msg \u001b[39m=\u001b[39m jsonapi\u001b[39m.\u001b[39mdumps(obj, \u001b[39m*\u001b[39m\u001b[39m*\u001b[39mkwargs)\n\u001b[0;32m--> 987\u001b[0m \u001b[39mreturn\u001b[39;00m \u001b[39mself\u001b[39;49m\u001b[39m.\u001b[39;49msend(msg, flags\u001b[39m=\u001b[39;49mflags, \u001b[39m*\u001b[39;49m\u001b[39m*\u001b[39;49msend_kwargs)\n",
      "File \u001b[0;32m~/Desktop/disributed/project/distributed-video-processing/.venv/lib/python3.10/site-packages/zmq/sugar/socket.py:688\u001b[0m, in \u001b[0;36mSocket.send\u001b[0;34m(self, data, flags, copy, track, routing_id, group)\u001b[0m\n\u001b[1;32m    681\u001b[0m         data \u001b[39m=\u001b[39m zmq\u001b[39m.\u001b[39mFrame(\n\u001b[1;32m    682\u001b[0m             data,\n\u001b[1;32m    683\u001b[0m             track\u001b[39m=\u001b[39mtrack,\n\u001b[1;32m    684\u001b[0m             copy\u001b[39m=\u001b[39mcopy \u001b[39mor\u001b[39;00m \u001b[39mNone\u001b[39;00m,\n\u001b[1;32m    685\u001b[0m             copy_threshold\u001b[39m=\u001b[39m\u001b[39mself\u001b[39m\u001b[39m.\u001b[39mcopy_threshold,\n\u001b[1;32m    686\u001b[0m         )\n\u001b[1;32m    687\u001b[0m     data\u001b[39m.\u001b[39mgroup \u001b[39m=\u001b[39m group\n\u001b[0;32m--> 688\u001b[0m \u001b[39mreturn\u001b[39;00m \u001b[39msuper\u001b[39;49m()\u001b[39m.\u001b[39;49msend(data, flags\u001b[39m=\u001b[39;49mflags, copy\u001b[39m=\u001b[39;49mcopy, track\u001b[39m=\u001b[39;49mtrack)\n",
      "File \u001b[0;32mzmq/backend/cython/socket.pyx:742\u001b[0m, in \u001b[0;36mzmq.backend.cython.socket.Socket.send\u001b[0;34m()\u001b[0m\n",
      "File \u001b[0;32mzmq/backend/cython/socket.pyx:783\u001b[0m, in \u001b[0;36mzmq.backend.cython.socket.Socket.send\u001b[0;34m()\u001b[0m\n",
      "File \u001b[0;32mzmq/backend/cython/socket.pyx:138\u001b[0m, in \u001b[0;36mzmq.backend.cython.socket._check_closed\u001b[0;34m()\u001b[0m\n",
      "\u001b[0;31mZMQError\u001b[0m: Socket operation on non-socket"
     ]
    }
   ],
   "source": [
    "nd.send_json({\"task\": \"task12\"})"
   ]
  },
  {
   "cell_type": "code",
   "execution_count": 24,
   "metadata": {},
   "outputs": [
    {
     "ename": "ZMQError",
     "evalue": "Socket operation on non-socket",
     "output_type": "error",
     "traceback": [
      "\u001b[0;31m---------------------------------------------------------------------------\u001b[0m",
      "\u001b[0;31mZMQError\u001b[0m                                  Traceback (most recent call last)",
      "Cell \u001b[0;32mIn[24], line 1\u001b[0m\n\u001b[0;32m----> 1\u001b[0m nd\u001b[39m.\u001b[39;49mnodes[\u001b[39m0\u001b[39;49m]\u001b[39m.\u001b[39;49msocket\u001b[39m.\u001b[39;49mdisconnect(\u001b[39m'\u001b[39;49m\u001b[39mhttp://127.0.0.1:9008\u001b[39;49m\u001b[39m'\u001b[39;49m)\n",
      "File \u001b[0;32mzmq/backend/cython/socket.pyx:655\u001b[0m, in \u001b[0;36mzmq.backend.cython.socket.Socket.disconnect\u001b[0;34m()\u001b[0m\n",
      "File \u001b[0;32mzmq/backend/cython/socket.pyx:138\u001b[0m, in \u001b[0;36mzmq.backend.cython.socket._check_closed\u001b[0;34m()\u001b[0m\n",
      "\u001b[0;31mZMQError\u001b[0m: Socket operation on non-socket"
     ]
    }
   ],
   "source": [
    "nd.nodes[0].socket.disconnect('http://127.0.0.1:9008')"
   ]
  },
  {
   "cell_type": "code",
   "execution_count": null,
   "metadata": {},
   "outputs": [],
   "source": []
  }
 ],
 "metadata": {
  "kernelspec": {
   "display_name": ".venv",
   "language": "python",
   "name": "python3"
  },
  "language_info": {
   "codemirror_mode": {
    "name": "ipython",
    "version": 3
   },
   "file_extension": ".py",
   "mimetype": "text/x-python",
   "name": "python",
   "nbconvert_exporter": "python",
   "pygments_lexer": "ipython3",
   "version": "3.10.6"
  },
  "orig_nbformat": 4,
  "vscode": {
   "interpreter": {
    "hash": "d22fad7cbc9a1626588e83c77497e323dd1e56142dc4e0219681a13c3f13f3b7"
   }
  }
 },
 "nbformat": 4,
 "nbformat_minor": 2
}
