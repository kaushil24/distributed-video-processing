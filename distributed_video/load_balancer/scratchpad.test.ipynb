{
 "cells": [
  {
   "attachments": {},
   "cell_type": "markdown",
   "metadata": {},
   "source": [
    "## Using module"
   ]
  },
  {
   "cell_type": "code",
   "execution_count": 47,
   "metadata": {},
   "outputs": [],
   "source": [
    "from distributed_video.load_balancer.node_manager import NodesDirectory\n",
    "# from load_balancer.node_manager import NodesDirectory\n",
    "\n",
    "nd = NodesDirectory()\n",
    "\n",
    "nd.close_all_sockets()\n",
    "\n",
    "nd.bind_all_sockets()"
   ]
  },
  {
   "cell_type": "code",
   "execution_count": 51,
   "metadata": {},
   "outputs": [],
   "source": [
    "nd.close_all_sockets()"
   ]
  },
  {
   "cell_type": "code",
   "execution_count": 10,
   "metadata": {},
   "outputs": [],
   "source": [
    "nd.bind_all_sockets()"
   ]
  },
  {
   "cell_type": "code",
   "execution_count": 31,
   "metadata": {},
   "outputs": [],
   "source": [
    "nd.send_json({\"task\": \"task12\"})"
   ]
  },
  {
   "cell_type": "code",
   "execution_count": 24,
   "metadata": {},
   "outputs": [
    {
     "ename": "ZMQError",
     "evalue": "Socket operation on non-socket",
     "output_type": "error",
     "traceback": [
      "\u001b[0;31m---------------------------------------------------------------------------\u001b[0m",
      "\u001b[0;31mZMQError\u001b[0m                                  Traceback (most recent call last)",
      "Cell \u001b[0;32mIn[24], line 1\u001b[0m\n\u001b[0;32m----> 1\u001b[0m nd\u001b[39m.\u001b[39;49mnodes[\u001b[39m0\u001b[39;49m]\u001b[39m.\u001b[39;49msocket\u001b[39m.\u001b[39;49mdisconnect(\u001b[39m'\u001b[39;49m\u001b[39mhttp://127.0.0.1:9008\u001b[39;49m\u001b[39m'\u001b[39;49m)\n",
      "File \u001b[0;32mzmq/backend/cython/socket.pyx:655\u001b[0m, in \u001b[0;36mzmq.backend.cython.socket.Socket.disconnect\u001b[0;34m()\u001b[0m\n",
      "File \u001b[0;32mzmq/backend/cython/socket.pyx:138\u001b[0m, in \u001b[0;36mzmq.backend.cython.socket._check_closed\u001b[0;34m()\u001b[0m\n",
      "\u001b[0;31mZMQError\u001b[0m: Socket operation on non-socket"
     ]
    }
   ],
   "source": [
    "nd.nodes[0].socket.disconnect('http://127.0.0.1:9008')"
   ]
  },
  {
   "cell_type": "code",
   "execution_count": null,
   "metadata": {},
   "outputs": [],
   "source": []
  }
 ],
 "metadata": {
  "kernelspec": {
   "display_name": ".venv",
   "language": "python",
   "name": "python3"
  },
  "language_info": {
   "codemirror_mode": {
    "name": "ipython",
    "version": 3
   },
   "file_extension": ".py",
   "mimetype": "text/x-python",
   "name": "python",
   "nbconvert_exporter": "python",
   "pygments_lexer": "ipython3",
   "version": "3.10.6"
  },
  "orig_nbformat": 4,
  "vscode": {
   "interpreter": {
    "hash": "d22fad7cbc9a1626588e83c77497e323dd1e56142dc4e0219681a13c3f13f3b7"
   }
  }
 },
 "nbformat": 4,
 "nbformat_minor": 2
}
