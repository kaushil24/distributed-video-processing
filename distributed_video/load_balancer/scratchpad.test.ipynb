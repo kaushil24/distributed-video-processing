{
 "cells": [
  {
   "attachments": {},
   "cell_type": "markdown",
   "metadata": {},
   "source": [
    "## Using module"
   ]
  },
  {
   "cell_type": "code",
   "execution_count": 1,
   "metadata": {},
   "outputs": [],
   "source": [
    "from distributed_video.load_balancer.node_manager import NodesDirectory\n",
    "# from load_balancer.node_manager import NodesDirectory\n",
    "\n",
    "nd = NodesDirectory()\n",
    "\n",
    "# nd.close_all_sockets()\n",
    "\n",
    "nd.bind_all_sockets()"
   ]
  },
  {
   "cell_type": "code",
   "execution_count": 11,
   "metadata": {},
   "outputs": [],
   "source": [
    "nd.close_all_sockets()"
   ]
  },
  {
   "cell_type": "code",
   "execution_count": 12,
   "metadata": {},
   "outputs": [
    {
     "name": "stdout",
     "output_type": "stream",
     "text": [
      "Port already binded\n"
     ]
    }
   ],
   "source": [
    "nd.bind_all_sockets()"
   ]
  },
  {
   "cell_type": "code",
   "execution_count": 4,
   "metadata": {},
   "outputs": [],
   "source": [
    "nd.send_json({\"task\": \"task12\"})"
   ]
  },
  {
   "cell_type": "code",
   "execution_count": null,
   "metadata": {},
   "outputs": [],
   "source": []
  }
 ],
 "metadata": {
  "kernelspec": {
   "display_name": ".venv",
   "language": "python",
   "name": "python3"
  },
  "language_info": {
   "codemirror_mode": {
    "name": "ipython",
    "version": 3
   },
   "file_extension": ".py",
   "mimetype": "text/x-python",
   "name": "python",
   "nbconvert_exporter": "python",
   "pygments_lexer": "ipython3",
   "version": "3.10.6"
  },
  "orig_nbformat": 4,
  "vscode": {
   "interpreter": {
    "hash": "d22fad7cbc9a1626588e83c77497e323dd1e56142dc4e0219681a13c3f13f3b7"
   }
  }
 },
 "nbformat": 4,
 "nbformat_minor": 2
}
