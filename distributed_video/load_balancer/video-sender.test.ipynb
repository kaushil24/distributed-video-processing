{
 "cells": [
  {
   "cell_type": "code",
   "execution_count": 1,
   "metadata": {},
   "outputs": [
    {
     "data": {
      "text/plain": [
       "['/home/k2/Work/SCU/Distributed Systems/distributed-video-processing/distributed_video/load_balancer',\n",
       " '/usr/lib/python310.zip',\n",
       " '/usr/lib/python3.10',\n",
       " '/usr/lib/python3.10/lib-dynload',\n",
       " '',\n",
       " '/home/k2/Work/SCU/Distributed Systems/distributed-video-processing/.venv/lib/python3.10/site-packages',\n",
       " '/home/k2/Work/SCU/Distributed Systems/distributed-video-processing']"
      ]
     },
     "execution_count": 1,
     "metadata": {},
     "output_type": "execute_result"
    }
   ],
   "source": [
    "import sys\n",
    "\n",
    "sys.path"
   ]
  },
  {
   "cell_type": "code",
   "execution_count": 9,
   "metadata": {},
   "outputs": [],
   "source": [
    "import requests\n",
    "\n",
    "video_path = \"/home/k2/Work/SCU/Distributed Systems/distributed-video-processing/distributed_video/load_balancer/media/sample__20230122_235058.mp4\"\n",
    "\n",
    "files = {'file': open(video_path, 'rb')}\n",
    "\n",
    "response = requests.post(\"http://127.0.0.1:5000/apply-filter\", files=files, data={'file_name': 'sample-video.mp4'})"
   ]
  },
  {
   "cell_type": "code",
   "execution_count": null,
   "metadata": {},
   "outputs": [],
   "source": []
  }
 ],
 "metadata": {
  "kernelspec": {
   "display_name": ".venv",
   "language": "python",
   "name": "python3"
  },
  "language_info": {
   "codemirror_mode": {
    "name": "ipython",
    "version": 3
   },
   "file_extension": ".py",
   "mimetype": "text/x-python",
   "name": "python",
   "nbconvert_exporter": "python",
   "pygments_lexer": "ipython3",
   "version": "3.10.6"
  },
  "orig_nbformat": 4
 },
 "nbformat": 4,
 "nbformat_minor": 2
}
