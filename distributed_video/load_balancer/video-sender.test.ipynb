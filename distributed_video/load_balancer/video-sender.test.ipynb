{
 "cells": [
  {
   "cell_type": "code",
   "execution_count": 9,
   "metadata": {},
   "outputs": [],
   "source": [
    "import requests\n",
    "\n",
    "video_path = \"/home/k2/Work/SCU/Distributed Systems/distributed-video-processing/distributed_video/load_balancer/media/sample__20230122_235058.mp4\"\n",
    "\n",
    "files = {'file': open(video_path, 'rb')}\n",
    "\n",
    "response = requests.post(\"http://127.0.0.1:5000/apply-filter\", files=files, data={'file_name': 'sample-video.mp4'})"
   ]
  },
  {
   "cell_type": "code",
   "execution_count": null,
   "metadata": {},
   "outputs": [],
   "source": [
    "# from distributed_video.load_balancer.load_balancer import LoadBalancer\n",
    "# from distributed_video.load_balancer.node_manager import NodesDirectory\n",
    "\n",
    "# nd = NodesDirectory()\n",
    "\n",
    "# nd.close_all_sockets()\n",
    "# nd.bind_all_sockets()\n",
    "\n",
    "# lb = LoadBalancer(\"\", nd)\n",
    "\n"
   ]
  }
 ],
 "metadata": {
  "kernelspec": {
   "display_name": ".venv",
   "language": "python",
   "name": "python3"
  },
  "language_info": {
   "codemirror_mode": {
    "name": "ipython",
    "version": 3
   },
   "file_extension": ".py",
   "mimetype": "text/x-python",
   "name": "python",
   "nbconvert_exporter": "python",
   "pygments_lexer": "ipython3",
   "version": "3.10.6"
  },
  "orig_nbformat": 4
 },
 "nbformat": 4,
 "nbformat_minor": 2
}
