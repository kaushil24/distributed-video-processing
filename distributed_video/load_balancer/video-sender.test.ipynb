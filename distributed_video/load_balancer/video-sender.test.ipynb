{
 "cells": [
  {
   "cell_type": "code",
   "execution_count": 21,
   "metadata": {},
   "outputs": [
    {
     "name": "stderr",
     "output_type": "stream",
     "text": [
      "Exception ignored in: <function Context.__del__ at 0x7fa486da4820>\n",
      "Traceback (most recent call last):\n",
      "  File \"/home/k2/Work/SCU/Distributed Systems/distributed-video-processing/.venv/lib/python3.10/site-packages/zmq/sugar/context.py\", line 151, in __del__\n",
      "    self.destroy()\n",
      "  File \"/home/k2/Work/SCU/Distributed Systems/distributed-video-processing/.venv/lib/python3.10/site-packages/zmq/sugar/context.py\", line 332, in destroy\n",
      "    self.term()\n",
      "  File \"/home/k2/Work/SCU/Distributed Systems/distributed-video-processing/.venv/lib/python3.10/site-packages/zmq/sugar/context.py\", line 274, in term\n",
      "    super().term()\n",
      "  File \"zmq/backend/cython/context.pyx\", line 83, in zmq.backend.cython.context.Context.term\n",
      "  File \"zmq/backend/cython/checkrc.pxd\", line 13, in zmq.backend.cython.checkrc._check_rc\n",
      "KeyboardInterrupt: \n"
     ]
    },
    {
     "name": "stdout",
     "output_type": "stream",
     "text": [
      "socket binded\n"
     ]
    }
   ],
   "source": [
    "import zmq\n",
    "from distributed_video.load_balancer.constants import RESP_SOCKET_URL\n",
    "from distributed_video.load_balancer.node_manager import NodesDirectory\n",
    "\n",
    "# context = zmq.Context()\n",
    "\n",
    "# context1 = zmq.Context()\n",
    "# context1.destroy()\n",
    "# context1 = zmq.Context()\n",
    "  \n",
    "# # send work\n",
    "# ack_socket = context1.socket(zmq.PUSH)\n",
    "# ack_socket.close()\n",
    "# ack_socket.bind(f\"tcp://{RESP_SOCKET_URL}\")\n",
    "\n",
    "# nd = NodesDirectory()\n",
    "# nd.close_all_sockets()\n",
    "# nd.bind_all_sockets()\n",
    "# nd.nodes[0].context.term()\n",
    "\n",
    "context2 = zmq.Context()\n",
    "consumer_sender = context2.socket(zmq.PUSH)\n",
    "# try:\n",
    "#     # consumer_sender.bind(f\"tcp://{RESP_SOCKET_URL}\")\n",
    "#     raise zmq.error.ZMQBaseError()\n",
    "# except zmq.error.ZMQError as ex:\n",
    "#     print(\"============= Error with zmq\")\n",
    "#     print(\"socket already bounded\")\n",
    "#     print(ex)\n",
    "#     # consumer_sender.close()\n",
    "#     consumer_sender.connect(f\"tcp://{RESP_SOCKET_URL}\")\n",
    "# consumer_sender.bind(f\"tcp://{RESP_SOCKET_URL}\")\n",
    "consumer_sender.connect(f\"tcp://{RESP_SOCKET_URL}\")\n",
    "print(\"socket binded\")\n",
    "# consumer_sender.send_json({\"hello\": 'world'})"
   ]
  },
  {
   "cell_type": "code",
   "execution_count": 24,
   "metadata": {},
   "outputs": [
    {
     "data": {
      "text/plain": [
       "{'task_id': 'baa67dc1-2f8f-4235-981d-50fa0feeb82b',\n",
       " 'message': 'uploaded successfully'}"
      ]
     },
     "execution_count": 24,
     "metadata": {},
     "output_type": "execute_result"
    }
   ],
   "source": [
    "import requests\n",
    "\n",
    "video_path = \"/home/k2/Work/SCU/Distributed Systems/distributed-video-processing/distributed_video/assets/test-face.mp4\"\n",
    "\n",
    "files = {'file': open(video_path, 'rb')}\n",
    "\n",
    "response = requests.post(\"http://127.0.0.1:6000/apply-filter\", files=files, data={'file_name': 'sample-video.mp4'})\n",
    "# response = requests.post(\"http://localhost:6000/test\")\n",
    "\n",
    "response.json()"
   ]
  },
  {
   "cell_type": "code",
   "execution_count": 22,
   "metadata": {},
   "outputs": [
    {
     "name": "stdout",
     "output_type": "stream",
     "text": [
      "24\n"
     ]
    },
    {
     "data": {
      "text/plain": [
       "'success'"
      ]
     },
     "execution_count": 22,
     "metadata": {},
     "output_type": "execute_result"
    },
    {
     "ename": "",
     "evalue": "",
     "output_type": "error",
     "traceback": [
      "\u001b[1;31mThe Kernel crashed while executing code in the the current cell or a previous cell. Please review the code in the cell(s) to identify a possible cause of the failure. Click <a href='https://aka.ms/vscodeJupyterKernelCrash'>here</a> for more info. View Jupyter <a href='command:jupyter.viewOutput'>log</a> for further details."
     ]
    }
   ],
   "source": [
    "from distributed_video.libs.utils import BlobStore\n",
    "import cv2\n",
    "import numpy as np\n",
    "import os\n",
    "\n",
    "def aggregator(task_id, total_frames):\n",
    "    img_array = []\n",
    "    bs = BlobStore()\n",
    "    # file_list = glob.glob(\"/home/k2/Work/SCU/Distributed Systems/distributed-video-processing/distributed_video/bucket/\"+task_id+\"/*.jpg\")\n",
    "    # print(file_list)    \n",
    "    # for filename in file_list:\n",
    "    for i in range(total_frames):\n",
    "        data = bs.read_file(file_name=f'{i}.jpg', task=\"0c1a6e38-ad8d-476c-914e-b1aa00c97146\")\n",
    "        img = cv2.cvtColor(np.frombuffer(data, np.uint8), cv2.IMREAD_COLOR)\n",
    "        cv2.imshow('test', img)\n",
    "        height, width, layers = img.shape\n",
    "        size = (width, height)\n",
    "        img_array.append(img)\n",
    "\n",
    "    print(len(img_array))\n",
    "    save_path = os.path.join('/home/k2/Work/SCU/Distributed Systems/distributed-video-processing/distributed_video/load_balancer/media', str(task_id)+'.avi')\n",
    "    out = cv2.VideoWriter(save_path, cv2.VideoWriter_fourcc(*\"MJPG\"), 15, size)\n",
    "\n",
    "    for i in range(len(img_array)):\n",
    "        out.write(img_array[i])\n",
    "    out.release()\n",
    "    return 'success'\n",
    "\n",
    "aggregator('0c1a6e38-ad8d-476c-914e-b1aa00c97146', 24)"
   ]
  },
  {
   "cell_type": "code",
   "execution_count": 6,
   "metadata": {},
   "outputs": [
    {
     "data": {
      "text/plain": [
       "array([[[ 95, 117, 165],\n",
       "        [ 95, 117, 165],\n",
       "        [ 95, 117, 165],\n",
       "        ...,\n",
       "        [ 90, 113, 158],\n",
       "        [ 90, 113, 158],\n",
       "        [ 90, 113, 158]],\n",
       "\n",
       "       [[ 95, 117, 165],\n",
       "        [ 95, 117, 165],\n",
       "        [ 95, 117, 165],\n",
       "        ...,\n",
       "        [ 90, 113, 158],\n",
       "        [ 90, 113, 158],\n",
       "        [ 90, 113, 158]],\n",
       "\n",
       "       [[ 95, 117, 165],\n",
       "        [ 95, 117, 165],\n",
       "        [ 95, 117, 165],\n",
       "        ...,\n",
       "        [ 90, 113, 158],\n",
       "        [ 90, 113, 158],\n",
       "        [ 90, 113, 158]],\n",
       "\n",
       "       ...,\n",
       "\n",
       "       [[ 30,  74, 127],\n",
       "        [ 30,  74, 127],\n",
       "        [ 30,  74, 127],\n",
       "        ...,\n",
       "        [  7,  25,  54],\n",
       "        [  7,  25,  54],\n",
       "        [  7,  25,  54]],\n",
       "\n",
       "       [[ 29,  73, 126],\n",
       "        [ 30,  74, 127],\n",
       "        [ 31,  73, 126],\n",
       "        ...,\n",
       "        [  7,  26,  53],\n",
       "        [  7,  26,  53],\n",
       "        [  7,  26,  53]],\n",
       "\n",
       "       [[ 31,  75, 128],\n",
       "        [ 31,  75, 128],\n",
       "        [ 32,  74, 127],\n",
       "        ...,\n",
       "        [  7,  26,  53],\n",
       "        [  7,  26,  53],\n",
       "        [  7,  26,  53]]], dtype=uint8)"
      ]
     },
     "execution_count": 6,
     "metadata": {},
     "output_type": "execute_result"
    }
   ],
   "source": [
    "image_path = '/home/k2/Pictures/vlcsnap-2023-02-21-18h44m20s534.png'\n",
    "\n",
    "import cv2\n",
    "from distributed_video.libs.utils import BlobStore\n",
    "import os\n",
    "\n",
    "bs = BlobStore()\n",
    "\n",
    "image = cv2.imread(image_path)\n",
    "\n",
    "os.makedirs(os.path.join('/home/k2/Work/SCU/Distributed Systems/distributed-video-processing/distributed_video/bucket', 'please'), exist_ok=True)\n",
    "bs.write_frame('temp.jpg', 'please', image)\n",
    "\n",
    "bs.read_frame('temp.jpg', 'please')"
   ]
  },
  {
   "cell_type": "code",
   "execution_count": null,
   "metadata": {},
   "outputs": [],
   "source": [
    "from flask import Flask\n",
    "from flask import Response\n",
    "from celery import Celery\n",
    "from http import HTTPStatus\n",
    "import zmq\n",
    "from urllib import parse\n",
    "from dotenv import load_dotenv\n",
    "import argparse\n",
    "import os\n",
    "import json\n",
    "import numpy as np\n",
    "import cv2\n",
    "print(\"Starting the socket.......\")\n",
    "context = zmq.Context()\n",
    "    # recieve work\n",
    "REQ_SOCKET_URL = os.environ.get(\"REQ_SOCKET_URL\")\n",
    "RESP_SOCKET_URL = os.environ.get(\"RESP_SOCKET_URL\") \n",
    "consumer_receiver = context.socket(zmq.PULL)\n",
    "consumer_receiver.connect(f\"tcp://{REQ_SOCKET_URL}\")\n",
    "    # send work\n",
    "consumer_sender = context.socket(zmq.PUSH)\n",
    "consumer_sender.connect(f\"tcp://{RESP_SOCKET_URL}\")\n",
    "print(f\"Receiving socket url: {REQ_SOCKET_URL}\")\n",
    "print(f\"Sender socket url: {RESP_SOCKET_URL}\")\n",
    "while True:\n",
    "        print(\"rec new messageszzzzz\")\n",
    "        jsonData = consumer_receiver.recv_json()\n",
    "        data = json.loads(jsonData)\n",
    "        frame_number = data[\"frame_number\"]\n",
    "        print(frame_number)\n",
    "        img_data = data[\"frame\"]\n",
    "        data[\"task_id\"]\n",
    "        print(frame_number)\n",
    "        img_data = bytes.fromhex(img_data)\n",
    "        img_np = cv2.imdecode(np.fromstring(img_data, dtype=np.uint8))\n",
    "        print(img_np.shape)\n",
    "        result = {\"data\": \"done\"}\n",
    "        consumer_sender.send_json(result)\n",
    "\n"
   ]
  },
  {
   "cell_type": "code",
   "execution_count": null,
   "metadata": {},
   "outputs": [],
   "source": [
    "# from distributed_video.load_balancer.load_balancer import LoadBalancer\n",
    "# from distributed_video.load_balancer.node_manager import NodesDirectory\n",
    "\n",
    "# nd = NodesDirectory()\n",
    "\n",
    "# nd.close_all_sockets()\n",
    "# nd.bind_all_sockets()\n",
    "\n",
    "# lb = LoadBalancer(\"\", nd)\n",
    "\n"
   ]
  }
 ],
 "metadata": {
  "kernelspec": {
   "display_name": ".venv",
   "language": "python",
   "name": "python3"
  },
  "language_info": {
   "codemirror_mode": {
    "name": "ipython",
    "version": 3
   },
   "file_extension": ".py",
   "mimetype": "text/x-python",
   "name": "python",
   "nbconvert_exporter": "python",
   "pygments_lexer": "ipython3",
   "version": "3.10.6"
  },
  "orig_nbformat": 4
 },
 "nbformat": 4,
 "nbformat_minor": 2
}
