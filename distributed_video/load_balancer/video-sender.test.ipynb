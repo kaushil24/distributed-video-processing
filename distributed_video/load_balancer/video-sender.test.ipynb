{
 "cells": [
  {
   "cell_type": "code",
   "execution_count": 65,
   "metadata": {},
   "outputs": [],
   "source": [
    "import requests\n",
    "\n",
    "resp = requests.get(\"http://127.0.0.1:6000/tasks/7162d87e-e0f3-48da-ac1d-d805fc092b03\")\n",
    "\n",
    "resp.json()"
   ]
  },
  {
   "cell_type": "code",
   "execution_count": 47,
   "metadata": {},
   "outputs": [
    {
     "data": {
      "text/plain": [
       "{'task_id': '7162d87e-e0f3-48da-ac1d-d805fc092b03',\n",
       " 'message': 'uploaded successfully'}"
      ]
     },
     "execution_count": 47,
     "metadata": {},
     "output_type": "execute_result"
    }
   ],
   "source": [
    "import requests\n",
    "\n",
    "video_path = \"/home/k2/Work/SCU/Distributed Systems/distributed-video-processing/distributed_video/assets/test-face.mp4\"\n",
    "\n",
    "files = {'file': open(video_path, 'rb')}\n",
    "\n",
    "response = requests.post(\"http://127.0.0.1:6000/apply-filter\", files=files, data={'file_name': 'sample-video.mp4'})\n",
    "# response = requests.post(\"http://localhost:6000/test\")\n",
    "\n",
    "response.json()"
   ]
  },
  {
   "cell_type": "code",
   "execution_count": null,
   "metadata": {},
   "outputs": [],
   "source": [
    "from flask import Flask\n",
    "from flask import Response\n",
    "from celery import Celery\n",
    "from http import HTTPStatus\n",
    "import zmq\n",
    "from urllib import parse\n",
    "from dotenv import load_dotenv\n",
    "import argparse\n",
    "import os\n",
    "import json\n",
    "import numpy as np\n",
    "import cv2\n",
    "print(\"Starting the socket.......\")\n",
    "context = zmq.Context()\n",
    "    # recieve work\n",
    "REQ_SOCKET_URL = os.environ.get(\"REQ_SOCKET_URL\")\n",
    "RESP_SOCKET_URL = os.environ.get(\"RESP_SOCKET_URL\") \n",
    "consumer_receiver = context.socket(zmq.PULL)\n",
    "consumer_receiver.connect(f\"tcp://{REQ_SOCKET_URL}\")\n",
    "    # send work\n",
    "consumer_sender = context.socket(zmq.PUSH)\n",
    "consumer_sender.connect(f\"tcp://{RESP_SOCKET_URL}\")\n",
    "print(f\"Receiving socket url: {REQ_SOCKET_URL}\")\n",
    "print(f\"Sender socket url: {RESP_SOCKET_URL}\")\n",
    "while True:\n",
    "        print(\"rec new messageszzzzz\")\n",
    "        jsonData = consumer_receiver.recv_json()\n",
    "        data = json.loads(jsonData)\n",
    "        frame_number = data[\"frame_number\"]\n",
    "        print(frame_number)\n",
    "        img_data = data[\"frame\"]\n",
    "        data[\"task_id\"]\n",
    "        print(frame_number)\n",
    "        img_data = bytes.fromhex(img_data)\n",
    "        img_np = cv2.imdecode(np.fromstring(img_data, dtype=np.uint8))\n",
    "        print(img_np.shape)\n",
    "        result = {\"data\": \"done\"}\n",
    "        consumer_sender.send_json(result)\n",
    "\n"
   ]
  },
  {
   "cell_type": "code",
   "execution_count": null,
   "metadata": {},
   "outputs": [],
   "source": [
    "# from distributed_video.load_balancer.load_balancer import LoadBalancer\n",
    "# from distributed_video.load_balancer.node_manager import NodesDirectory\n",
    "\n",
    "# nd = NodesDirectory()\n",
    "\n",
    "# nd.close_all_sockets()\n",
    "# nd.bind_all_sockets()\n",
    "\n",
    "# lb = LoadBalancer(\"\", nd)\n",
    "\n"
   ]
  }
 ],
 "metadata": {
  "kernelspec": {
   "display_name": ".venv",
   "language": "python",
   "name": "python3"
  },
  "language_info": {
   "codemirror_mode": {
    "name": "ipython",
    "version": 3
   },
   "file_extension": ".py",
   "mimetype": "text/x-python",
   "name": "python",
   "nbconvert_exporter": "python",
   "pygments_lexer": "ipython3",
   "version": "3.10.6"
  },
  "orig_nbformat": 4
 },
 "nbformat": 4,
 "nbformat_minor": 2
}
